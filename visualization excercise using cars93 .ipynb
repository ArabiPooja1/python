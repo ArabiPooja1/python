{
 "cells": [
  {
   "cell_type": "code",
   "execution_count": 2,
   "id": "d96b4dc2",
   "metadata": {},
   "outputs": [],
   "source": [
    "import numpy as np\n",
    "import pandas as pd\n",
    "import matplotlib.pyplot as plt"
   ]
  },
  {
   "cell_type": "code",
   "execution_count": 3,
   "id": "dfed7f32",
   "metadata": {
    "scrolled": true
   },
   "outputs": [
    {
     "data": {
      "text/plain": [
       "Index(['Unnamed: 0', 'Manufacturer', 'Model', 'Type', 'Min.Price', 'Price',\n",
       "       'Max.Price', 'MPG.city', 'MPG.highway', 'AirBags', 'DriveTrain',\n",
       "       'Cylinders', 'EngineSize', 'Horsepower', 'RPM', 'Rev.per.mile',\n",
       "       'Man.trans.avail', 'Fuel.tank.capacity', 'Passengers', 'Length',\n",
       "       'Wheelbase', 'Width', 'Turn.circle', 'Rear.seat.room', 'Luggage.room',\n",
       "       'Weight', 'Origin', 'Make'],\n",
       "      dtype='object')"
      ]
     },
     "execution_count": 3,
     "metadata": {},
     "output_type": "execute_result"
    }
   ],
   "source": [
    "a=pd.read_csv(\"dataset/Cars93.csv\")\n",
    "a.columns"
   ]
  },
  {
   "cell_type": "code",
   "execution_count": 4,
   "id": "abd57627",
   "metadata": {},
   "outputs": [],
   "source": [
    "columns=[\"Manufacturer\",\"Model\",\"Type\",\"Price\",\"MPG.city\",\"MPG.highway\",\"Horsepower\",\"Rear.seat.room\",\"Passengers\"]"
   ]
  },
  {
   "cell_type": "code",
   "execution_count": 5,
   "id": "10422153",
   "metadata": {},
   "outputs": [],
   "source": [
    "a=a[columns]"
   ]
  },
  {
   "cell_type": "code",
   "execution_count": 6,
   "id": "a80a8630",
   "metadata": {},
   "outputs": [
    {
     "data": {
      "text/html": [
       "<div>\n",
       "<style scoped>\n",
       "    .dataframe tbody tr th:only-of-type {\n",
       "        vertical-align: middle;\n",
       "    }\n",
       "\n",
       "    .dataframe tbody tr th {\n",
       "        vertical-align: top;\n",
       "    }\n",
       "\n",
       "    .dataframe thead th {\n",
       "        text-align: right;\n",
       "    }\n",
       "</style>\n",
       "<table border=\"1\" class=\"dataframe\">\n",
       "  <thead>\n",
       "    <tr style=\"text-align: right;\">\n",
       "      <th></th>\n",
       "      <th>Manufacturer</th>\n",
       "      <th>Model</th>\n",
       "      <th>Type</th>\n",
       "      <th>Price</th>\n",
       "      <th>MPG.city</th>\n",
       "      <th>MPG.highway</th>\n",
       "      <th>Horsepower</th>\n",
       "      <th>Rear.seat.room</th>\n",
       "      <th>Passengers</th>\n",
       "    </tr>\n",
       "  </thead>\n",
       "  <tbody>\n",
       "    <tr>\n",
       "      <th>0</th>\n",
       "      <td>Acura</td>\n",
       "      <td>Integra</td>\n",
       "      <td>Small</td>\n",
       "      <td>15.9</td>\n",
       "      <td>25</td>\n",
       "      <td>31</td>\n",
       "      <td>140</td>\n",
       "      <td>26.5</td>\n",
       "      <td>5</td>\n",
       "    </tr>\n",
       "    <tr>\n",
       "      <th>1</th>\n",
       "      <td>Acura</td>\n",
       "      <td>Legend</td>\n",
       "      <td>Midsize</td>\n",
       "      <td>33.9</td>\n",
       "      <td>18</td>\n",
       "      <td>25</td>\n",
       "      <td>200</td>\n",
       "      <td>30.0</td>\n",
       "      <td>5</td>\n",
       "    </tr>\n",
       "    <tr>\n",
       "      <th>2</th>\n",
       "      <td>Audi</td>\n",
       "      <td>90</td>\n",
       "      <td>Compact</td>\n",
       "      <td>29.1</td>\n",
       "      <td>20</td>\n",
       "      <td>26</td>\n",
       "      <td>172</td>\n",
       "      <td>28.0</td>\n",
       "      <td>5</td>\n",
       "    </tr>\n",
       "    <tr>\n",
       "      <th>3</th>\n",
       "      <td>Audi</td>\n",
       "      <td>100</td>\n",
       "      <td>Midsize</td>\n",
       "      <td>37.7</td>\n",
       "      <td>19</td>\n",
       "      <td>26</td>\n",
       "      <td>172</td>\n",
       "      <td>31.0</td>\n",
       "      <td>6</td>\n",
       "    </tr>\n",
       "    <tr>\n",
       "      <th>4</th>\n",
       "      <td>BMW</td>\n",
       "      <td>535i</td>\n",
       "      <td>Midsize</td>\n",
       "      <td>30.0</td>\n",
       "      <td>22</td>\n",
       "      <td>30</td>\n",
       "      <td>208</td>\n",
       "      <td>27.0</td>\n",
       "      <td>4</td>\n",
       "    </tr>\n",
       "    <tr>\n",
       "      <th>...</th>\n",
       "      <td>...</td>\n",
       "      <td>...</td>\n",
       "      <td>...</td>\n",
       "      <td>...</td>\n",
       "      <td>...</td>\n",
       "      <td>...</td>\n",
       "      <td>...</td>\n",
       "      <td>...</td>\n",
       "      <td>...</td>\n",
       "    </tr>\n",
       "    <tr>\n",
       "      <th>88</th>\n",
       "      <td>Volkswagen</td>\n",
       "      <td>Eurovan</td>\n",
       "      <td>Van</td>\n",
       "      <td>19.7</td>\n",
       "      <td>17</td>\n",
       "      <td>21</td>\n",
       "      <td>109</td>\n",
       "      <td>34.0</td>\n",
       "      <td>7</td>\n",
       "    </tr>\n",
       "    <tr>\n",
       "      <th>89</th>\n",
       "      <td>Volkswagen</td>\n",
       "      <td>Passat</td>\n",
       "      <td>Compact</td>\n",
       "      <td>20.0</td>\n",
       "      <td>21</td>\n",
       "      <td>30</td>\n",
       "      <td>134</td>\n",
       "      <td>31.5</td>\n",
       "      <td>5</td>\n",
       "    </tr>\n",
       "    <tr>\n",
       "      <th>90</th>\n",
       "      <td>Volkswagen</td>\n",
       "      <td>Corrado</td>\n",
       "      <td>Sporty</td>\n",
       "      <td>23.3</td>\n",
       "      <td>18</td>\n",
       "      <td>25</td>\n",
       "      <td>178</td>\n",
       "      <td>26.0</td>\n",
       "      <td>4</td>\n",
       "    </tr>\n",
       "    <tr>\n",
       "      <th>91</th>\n",
       "      <td>Volvo</td>\n",
       "      <td>240</td>\n",
       "      <td>Compact</td>\n",
       "      <td>22.7</td>\n",
       "      <td>21</td>\n",
       "      <td>28</td>\n",
       "      <td>114</td>\n",
       "      <td>29.5</td>\n",
       "      <td>5</td>\n",
       "    </tr>\n",
       "    <tr>\n",
       "      <th>92</th>\n",
       "      <td>Volvo</td>\n",
       "      <td>850</td>\n",
       "      <td>Midsize</td>\n",
       "      <td>26.7</td>\n",
       "      <td>20</td>\n",
       "      <td>28</td>\n",
       "      <td>168</td>\n",
       "      <td>30.0</td>\n",
       "      <td>5</td>\n",
       "    </tr>\n",
       "  </tbody>\n",
       "</table>\n",
       "<p>93 rows × 9 columns</p>\n",
       "</div>"
      ],
      "text/plain": [
       "   Manufacturer    Model     Type  Price  MPG.city  MPG.highway  Horsepower  \\\n",
       "0         Acura  Integra    Small   15.9        25           31         140   \n",
       "1         Acura   Legend  Midsize   33.9        18           25         200   \n",
       "2          Audi       90  Compact   29.1        20           26         172   \n",
       "3          Audi      100  Midsize   37.7        19           26         172   \n",
       "4           BMW     535i  Midsize   30.0        22           30         208   \n",
       "..          ...      ...      ...    ...       ...          ...         ...   \n",
       "88   Volkswagen  Eurovan      Van   19.7        17           21         109   \n",
       "89   Volkswagen   Passat  Compact   20.0        21           30         134   \n",
       "90   Volkswagen  Corrado   Sporty   23.3        18           25         178   \n",
       "91        Volvo      240  Compact   22.7        21           28         114   \n",
       "92        Volvo      850  Midsize   26.7        20           28         168   \n",
       "\n",
       "    Rear.seat.room  Passengers  \n",
       "0             26.5           5  \n",
       "1             30.0           5  \n",
       "2             28.0           5  \n",
       "3             31.0           6  \n",
       "4             27.0           4  \n",
       "..             ...         ...  \n",
       "88            34.0           7  \n",
       "89            31.5           5  \n",
       "90            26.0           4  \n",
       "91            29.5           5  \n",
       "92            30.0           5  \n",
       "\n",
       "[93 rows x 9 columns]"
      ]
     },
     "execution_count": 6,
     "metadata": {},
     "output_type": "execute_result"
    }
   ],
   "source": [
    "a"
   ]
  },
  {
   "cell_type": "code",
   "execution_count": 7,
   "id": "4e4c3be9",
   "metadata": {},
   "outputs": [
    {
     "data": {
      "text/plain": [
       "<AxesSubplot:>"
      ]
     },
     "execution_count": 7,
     "metadata": {},
     "output_type": "execute_result"
    },
    {
     "data": {
      "image/png": "[encoded data removed]",
      "text/plain": [
       "<Figure size 432x288 with 1 Axes>"
      ]
     },
     "metadata": {
      "needs_background": "light"
     },
     "output_type": "display_data"
    }
   ],
   "source": [
    "a[\"Price\"].plot(kind=\"box\")"
   ]
  },
  {
   "cell_type": "code",
   "execution_count": 13,
   "id": "39e13067",
   "metadata": {},
   "outputs": [
    {
     "data": {
      "image/png": "[encoded data removed]",
      "text/plain": [
       "<Figure size 432x288 with 2 Axes>"
      ]
     },
     "metadata": {
      "needs_background": "light"
     },
     "output_type": "display_data"
    }
   ],
   "source": [
    "fig,(ax1,ax2)=plt.subplots(1,2)\n",
    "ax1.boxplot(a[\"Horsepower\"])\n",
    "ax2.boxplot(a[\"MPG.city\"])\n",
    "plt.show()"
   ]
  },
  {
   "cell_type": "code",
   "execution_count": 24,
   "id": "191734c8",
   "metadata": {},
   "outputs": [
    {
     "data": {
      "text/plain": [
       "array(['Small', 'Midsize', 'Compact', 'Large', 'Sporty', 'Van'],\n",
       "      dtype=object)"
      ]
     },
     "execution_count": 24,
     "metadata": {},
     "output_type": "execute_result"
    }
   ],
   "source": [
    "a[\"Type\"].unique()"
   ]
  },
  {
   "cell_type": "code",
   "execution_count": 35,
   "id": "8962b0d2",
   "metadata": {},
   "outputs": [
    {
     "data": {
      "image/png": "[encoded data removed]",
      "text/plain": [
       "<Figure size 1224x864 with 6 Axes>"
      ]
     },
     "metadata": {
      "needs_background": "light"
     },
     "output_type": "display_data"
    }
   ],
   "source": [
    "fig,ax=plt.subplots(2,3,figsize=(17,12))\n",
    "ax[0][0].boxplot(a[\"Price\"][a[\"Type\"]==\"Compact\"])\n",
    "ax[0][1].boxplot(a[\"Price\"][a[\"Type\"]==\"Small\"])\n",
    "ax[0][2].boxplot(a[\"Price\"][a[\"Type\"]==\"Midsize\"])\n",
    "ax[1][0].boxplot(a[\"Price\"][a[\"Type\"]==\"Large\"])\n",
    "ax[1][1].boxplot(a[\"Price\"][a[\"Type\"]==\"Sporty\"])\n",
    "ax[1][2].boxplot(a[\"Price\"][a[\"Type\"]==\"Van\"])\n",
    "plt.show()"
   ]
  },
  {
   "cell_type": "code",
   "execution_count": 40,
   "id": "d7f74ff6",
   "metadata": {},
   "outputs": [
    {
     "data": {
      "text/plain": [
       "<matplotlib.collections.PathCollection at 0x1f3631fdeb0>"
      ]
     },
     "execution_count": 40,
     "metadata": {},
     "output_type": "execute_result"
    },
    {
     "data": {
      "image/png": "[encoded data removed]",
      "text/plain": [
       "<Figure size 432x288 with 1 Axes>"
      ]
     },
     "metadata": {
      "needs_background": "light"
     },
     "output_type": "display_data"
    }
   ],
   "source": [
    "plt.scatter(a[\"Horsepower\"],a[\"MPG.city\"],color='r')"
   ]
  },
  {
   "cell_type": "code",
   "execution_count": null,
   "id": "c10a442c",
   "metadata": {},
   "outputs": [],
   "source": []
  }
 ],
 "metadata": {
  "kernelspec": {
   "display_name": "Python 3 (ipykernel)",
   "language": "python",
   "name": "python3"
  },
  "language_info": {
   "codemirror_mode": {
    "name": "ipython",
    "version": 3
   },
   "file_extension": ".py",
   "mimetype": "text/x-python",
   "name": "python",
   "nbconvert_exporter": "python",
   "pygments_lexer": "ipython3",
   "version": "3.9.12"
  }
 },
 "nbformat": 4,
 "nbformat_minor": 5
}
