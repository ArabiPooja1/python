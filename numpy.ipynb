{
 "cells": [
  {
   "cell_type": "code",
   "execution_count": 59,
   "id": "d9361eec",
   "metadata": {},
   "outputs": [],
   "source": [
    "import numpy as np"
   ]
  },
  {
   "cell_type": "code",
   "execution_count": 60,
   "id": "6078d110",
   "metadata": {},
   "outputs": [],
   "source": [
    "a=np.array([\n",
    "    [1,6012],\n",
    "    [2,7079],\n",
    "    [3,6886],\n",
    "    [4,7230],\n",
    "    [5,4539],\n",
    "    [6,5504],\n",
    "    [7,6971],\n",
    "    [8,7763],\n",
    "    [9,8032],\n",
    "    [10,9569]\n",
    "])"
   ]
  },
  {
   "cell_type": "code",
   "execution_count": 68,
   "id": "e3b8b57b",
   "metadata": {
    "scrolled": true
   },
   "outputs": [
    {
     "data": {
      "text/plain": [
       "array([[    1,  8012],\n",
       "       [    2,  9079],\n",
       "       [    3,  8886],\n",
       "       [    4,  9230],\n",
       "       [    5,  6539],\n",
       "       [    6,  7504],\n",
       "       [    7,  8971],\n",
       "       [    8,  9763],\n",
       "       [    9, 10032],\n",
       "       [   10, 11569]])"
      ]
     },
     "execution_count": 68,
     "metadata": {},
     "output_type": "execute_result"
    }
   ],
   "source": [
    "a"
   ]
  },
  {
   "cell_type": "code",
   "execution_count": 69,
   "id": "5f9b2ff1",
   "metadata": {},
   "outputs": [],
   "source": [
    "a=a+[0,200]"
   ]
  },
  {
   "cell_type": "code",
   "execution_count": 70,
   "id": "8c1401e2",
   "metadata": {},
   "outputs": [
    {
     "data": {
      "text/plain": [
       "array([[    1,  8212],\n",
       "       [    2,  9279],\n",
       "       [    3,  9086],\n",
       "       [    4,  9430],\n",
       "       [    5,  6739],\n",
       "       [    6,  7704],\n",
       "       [    7,  9171],\n",
       "       [    8,  9963],\n",
       "       [    9, 10232],\n",
       "       [   10, 11769]])"
      ]
     },
     "execution_count": 70,
     "metadata": {},
     "output_type": "execute_result"
    }
   ],
   "source": [
    "a"
   ]
  },
  {
   "cell_type": "code",
   "execution_count": 71,
   "id": "98a5c381",
   "metadata": {},
   "outputs": [
    {
     "data": {
      "text/plain": [
       "array([ True,  True,  True,  True,  True,  True,  True,  True,  True,\n",
       "        True])"
      ]
     },
     "execution_count": 71,
     "metadata": {},
     "output_type": "execute_result"
    }
   ],
   "source": [
    "a[:,1]>900"
   ]
  },
  {
   "cell_type": "code",
   "execution_count": null,
   "id": "d510cabe",
   "metadata": {},
   "outputs": [],
   "source": []
  }
 ],
 "metadata": {
  "kernelspec": {
   "display_name": "Python 3 (ipykernel)",
   "language": "python",
   "name": "python3"
  },
  "language_info": {
   "codemirror_mode": {
    "name": "ipython",
    "version": 3
   },
   "file_extension": ".py",
   "mimetype": "text/x-python",
   "name": "python",
   "nbconvert_exporter": "python",
   "pygments_lexer": "ipython3",
   "version": "3.9.12"
  }
 },
 "nbformat": 4,
 "nbformat_minor": 5
}
